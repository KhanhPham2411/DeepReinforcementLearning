{
  "nbformat": 4,
  "nbformat_minor": 0,
  "metadata": {
    "colab": {
      "name": "funcs.ipynb",
      "provenance": [],
      "authorship_tag": "ABX9TyPERXKmmoTOIzp14BXpbeTU",
      "include_colab_link": true
    },
    "kernelspec": {
      "name": "python3",
      "display_name": "Python 3"
    },
    "accelerator": "GPU"
  },
  "cells": [
    {
      "cell_type": "markdown",
      "metadata": {
        "id": "view-in-github",
        "colab_type": "text"
      },
      "source": [
        "<a href=\"https://colab.research.google.com/github/KhanhPham2411/DeepReinforcementLearning/blob/master/funcs.ipynb\" target=\"_parent\"><img src=\"https://colab.research.google.com/assets/colab-badge.svg\" alt=\"Open In Colab\"/></a>"
      ]
    },
    {
      "cell_type": "code",
      "metadata": {
        "id": "2gP5a3F7lCxh",
        "colab_type": "code",
        "colab": {}
      },
      "source": [
        "!wget https://github.com/KhanhPham2411/DeepReinforcementLearning/archive/master.zip"
      ],
      "execution_count": null,
      "outputs": []
    },
    {
      "cell_type": "code",
      "metadata": {
        "id": "TfSdTErylIWk",
        "colab_type": "code",
        "colab": {}
      },
      "source": [
        "!unzip master.zip"
      ],
      "execution_count": null,
      "outputs": []
    },
    {
      "cell_type": "code",
      "metadata": {
        "id": "vSQhqyNQlKY5",
        "colab_type": "code",
        "colab": {
          "base_uri": "https://localhost:8080/",
          "height": 34
        },
        "outputId": "e382a6df-3e18-4b82-fd7b-b34ed8f154c9"
      },
      "source": [
        "cd DeepReinforcementLearning-master/"
      ],
      "execution_count": 7,
      "outputs": [
        {
          "output_type": "stream",
          "text": [
            "/content/DeepReinforcementLearning-master\n"
          ],
          "name": "stdout"
        }
      ]
    },
    {
      "cell_type": "code",
      "metadata": {
        "id": "PLu0I81IktAj",
        "colab_type": "code",
        "colab": {}
      },
      "source": [
        "import numpy as np\n",
        "import random\n",
        "\n",
        "import loggers as lg\n",
        "\n",
        "from game import Game, GameState\n",
        "from model import Residual_CNN\n",
        "\n",
        "from agent import Agent, User\n",
        "import config\n",
        "from collections import deque\n",
        "import collections"
      ],
      "execution_count": 20,
      "outputs": []
    },
    {
      "cell_type": "code",
      "metadata": {
        "id": "nPss859B33yb",
        "colab_type": "code",
        "colab": {}
      },
      "source": [
        "class Memory:\n",
        "\tdef __init__(self, MEMORY_SIZE):\n",
        "\t\tself.MEMORY_SIZE = config.MEMORY_SIZE\n",
        "\t\tself.ltmemory = deque(maxlen=config.MEMORY_SIZE)\n",
        "\t\tself.stmemory = deque(maxlen=config.MEMORY_SIZE)\n",
        "\n",
        "\tdef commit_stmemory(self, identities, state, actionValues):\n",
        "\t\tfor r in identities(state, actionValues):\n",
        "\t\t\tself.stmemory.append({\n",
        "\t\t\t\t'board': r[0].board\n",
        "\t\t\t\t, 'state': r[0]\n",
        "\t\t\t\t, 'id': r[0].id\n",
        "\t\t\t\t, 'AV': r[1]\n",
        "\t\t\t\t, 'playerTurn': r[0].playerTurn\n",
        "\t\t\t\t})\n",
        "\n",
        "\tdef commit_ltmemory(self):\n",
        "\t\tfor i in self.stmemory:\n",
        "\t\t\tself.ltmemory.append(i)\n",
        "\t\tself.clear_stmemory()\n",
        "\n",
        "\tdef clear_stmemory(self):\n",
        "\t\tself.stmemory = deque(maxlen=config.MEMORY_SIZE)"
      ],
      "execution_count": 13,
      "outputs": []
    },
    {
      "cell_type": "code",
      "metadata": {
        "id": "yP2S5_4_nIOO",
        "colab_type": "code",
        "colab": {}
      },
      "source": [
        "class DummyAgent():\n",
        "\tdef __init__(self, name, state_size, action_size):\n",
        "\t\tself.name = name\n",
        "\t\tself.state_size = state_size\n",
        "\t\tself.action_size = action_size\n",
        "\n",
        "\tdef act(self, state, tau):\n",
        "\t\taction = np.random.randint(0, self.action_size)\n",
        "\t\tpi = np.zeros(self.action_size)\n",
        "\t\tpi[action] = 1\n",
        "\t\tvalue = None\n",
        "\t\tNN_value = None\n",
        "\t\treturn (action, pi, value, NN_value)"
      ],
      "execution_count": 14,
      "outputs": []
    },
    {
      "cell_type": "code",
      "metadata": {
        "id": "xPdbAak7lWr1",
        "colab_type": "code",
        "colab": {}
      },
      "source": [
        "EPISODES = 5\n",
        "logger = lg.logger_main\n",
        "goes_first = 0\n",
        "turns_until_tau0 = 10\n",
        "MEMORY_SIZE = 30000\n",
        "\n",
        "memory = Memory(MEMORY_SIZE)\n",
        "\n",
        "env = Game()\n",
        "player1 = DummyAgent('player1', env.state_size, env.action_size)\n",
        "player2 = DummyAgent('player2', env.state_size, env.action_size)\n",
        "\n",
        "scores = {player1.name:0, \"drawn\": 0, player2.name:0}\n",
        "sp_scores = {'sp':0, \"drawn\": 0, 'nsp':0}\n",
        "points = {player1.name:[], player2.name:[]}\n"
      ],
      "execution_count": 29,
      "outputs": []
    },
    {
      "cell_type": "code",
      "metadata": {
        "id": "OwWrP2DTq_ce",
        "colab_type": "code",
        "colab": {}
      },
      "source": [
        "players[]"
      ],
      "execution_count": null,
      "outputs": []
    },
    {
      "cell_type": "code",
      "metadata": {
        "id": "GOmswTWPk_uh",
        "colab_type": "code",
        "colab": {}
      },
      "source": [
        "for e in range(EPISODES):\n",
        "\n",
        "    logger.info('====================')\n",
        "    logger.info('EPISODE %d OF %d', e+1, EPISODES)\n",
        "    logger.info('====================')\n",
        "\n",
        "    print (str(e+1) + ' ', end='')\n",
        "\n",
        "    state = env.reset()\n",
        "    \n",
        "    done = 0\n",
        "    turn = 0\n",
        "    player1.mcts = None\n",
        "    player2.mcts = None\n",
        "\n",
        "    if goes_first == 0:\n",
        "        player1Starts = random.randint(0,1) * 2 - 1\n",
        "    else:\n",
        "        player1Starts = goes_first\n",
        "\n",
        "    if player1Starts == 1:\n",
        "        players = {1:{\"agent\": player1, \"name\":player1.name}\n",
        "                , -1: {\"agent\": player2, \"name\":player2.name}\n",
        "                }\n",
        "        logger.info(player1.name + ' plays as X')\n",
        "    else:\n",
        "        players = {1:{\"agent\": player2, \"name\":player2.name}\n",
        "                , -1: {\"agent\": player1, \"name\":player1.name}\n",
        "                }\n",
        "        logger.info(player2.name + ' plays as X')\n",
        "        logger.info('--------------')\n",
        "\n",
        "    env.gameState.render(logger)\n",
        "\n",
        "    print(\"EPISODES:\" + str(e))\n",
        "\n",
        "    while done == 0:\n",
        "        turn = turn + 1\n",
        "        \n",
        "\n",
        "        #### Run the MCTS algo and return an action\n",
        "        if turn < turns_until_tau0:\n",
        "            action, pi, MCTS_value, NN_value = players[state.playerTurn]['agent'].act(state, 1)\n",
        "        else:\n",
        "            action, pi, MCTS_value, NN_value = players[state.playerTurn]['agent'].act(state, 0)\n",
        "\n",
        "        if memory != None:\n",
        "            ####Commit the move to memory\n",
        "            memory.commit_stmemory(env.identities, state, pi)\n",
        "\n",
        "\n",
        "        # logger.info('action: %d', action)\n",
        "        # for r in range(env.grid_shape[0]):\n",
        "        #     logger.info(['----' if x == 0 else '{0:.2f}'.format(np.round(x,2)) for x in pi[env.grid_shape[1]*r : (env.grid_shape[1]*r + env.grid_shape[1])]])\n",
        "        # logger.info('MCTS perceived value for %s: %f', state.pieces[str(state.playerTurn)] ,np.round(MCTS_value,2))\n",
        "        # logger.info('NN perceived value for %s: %f', state.pieces[str(state.playerTurn)] ,np.round(NN_value,2))\n",
        "        # logger.info('====================')\n",
        "\n",
        "        ### Do the action\n",
        "        state, value, done, _ = env.step(action) #the value of the newState from the POV of the new playerTurn i.e. -1 if the previous player played a winning move\n",
        "        \n",
        "        env.gameState.render(logger)\n",
        "\n",
        "        if done == 1: \n",
        "            if memory != None:\n",
        "                #### If the game is finished, assign the values correctly to the game moves\n",
        "                for move in memory.stmemory:\n",
        "                    if move['playerTurn'] == state.playerTurn:\n",
        "                        move['value'] = value\n",
        "                    else:\n",
        "                        move['value'] = -value\n",
        "                        \n",
        "                memory.commit_ltmemory()\n",
        "            \n",
        "            if value == 1:\n",
        "                logger.info('%s WINS!', players[state.playerTurn]['name'])\n",
        "                scores[players[state.playerTurn]['name']] = scores[players[state.playerTurn]['name']] + 1\n",
        "                if state.playerTurn == 1: \n",
        "                    sp_scores['sp'] = sp_scores['sp'] + 1\n",
        "                else:\n",
        "                    sp_scores['nsp'] = sp_scores['nsp'] + 1\n",
        "\n",
        "            elif value == -1:\n",
        "                logger.info('%s WINS!', players[-state.playerTurn]['name'])\n",
        "                scores[players[-state.playerTurn]['name']] = scores[players[-state.playerTurn]['name']] + 1\n",
        "            \n",
        "                if state.playerTurn == 1: \n",
        "                    sp_scores['nsp'] = sp_scores['nsp'] + 1\n",
        "                else:\n",
        "                    sp_scores['sp'] = sp_scores['sp'] + 1\n",
        "\n",
        "            else:\n",
        "                logger.info('DRAW...')\n",
        "                scores['drawn'] = scores['drawn'] + 1\n",
        "                sp_scores['drawn'] = sp_scores['drawn'] + 1\n",
        "\n",
        "            pts = state.score\n",
        "            points[players[state.playerTurn]['name']].append(pts[0])\n",
        "            points[players[-state.playerTurn]['name']].append(pts[1])\n",
        "\n",
        "print(scores)\n",
        "print(points)\n",
        "print(sp_scores)\n",
        "\n"
      ],
      "execution_count": null,
      "outputs": []
    },
    {
      "cell_type": "code",
      "metadata": {
        "id": "HT8At2he6U4o",
        "colab_type": "code",
        "colab": {
          "base_uri": "https://localhost:8080/",
          "height": 122
        },
        "outputId": "a42bdd1a-a3c6-4ce5-d8ef-70c8edfed9a7"
      },
      "source": [
        "print(memory.ltmemory[-1])"
      ],
      "execution_count": 34,
      "outputs": [
        {
          "output_type": "stream",
          "text": [
            "{'board': array([ 0,  1, -1, -1, -1,  0,  0,  0,  1,  0,  1,  0,  0,  0,  1,  0,  0,\n",
            "        0,  1,  1,  0,  1, -1,  0, -1, -1,  0,  0,  1, -1,  0,  1,  1,  1,\n",
            "        0,  0, -1,  0,  0,  1, -1,  1]), 'state': <game.GameState object at 0x7f72cb16e208>, 'id': '010000001010001000110100000010011100000101001110000000000000000010110001000000100010', 'AV': array([0., 0., 0., 0., 0., 1., 0., 0., 0., 0., 0., 0., 0., 0., 0., 0., 0.,\n",
            "       0., 0., 0., 0., 0., 0., 0., 0., 0., 0., 0., 0., 0., 0., 0., 0., 0.,\n",
            "       0., 0., 0., 0., 0., 0., 0., 0.]), 'playerTurn': -1, 'value': 1}\n"
          ],
          "name": "stdout"
        }
      ]
    }
  ]
}